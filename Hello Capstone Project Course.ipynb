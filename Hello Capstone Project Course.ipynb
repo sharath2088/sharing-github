{
    "metadata": {
        "language_info": {
            "codemirror_mode": {
                "name": "ipython", 
                "version": 3
            }, 
            "file_extension": ".py", 
            "version": "3.5.4", 
            "name": "python", 
            "pygments_lexer": "ipython3", 
            "mimetype": "text/x-python", 
            "nbconvert_exporter": "python"
        }, 
        "kernelspec": {
            "language": "python3", 
            "display_name": "Python 3.5 with Spark", 
            "name": "python3"
        }
    }, 
    "nbformat": 4, 
    "cells": [
        {
            "metadata": {
                "collapsed": true
            }, 
            "cell_type": "markdown", 
            "source": "# This is the first of 5 assignments undertaken as part of the Capstone Project"
        }, 
        {
            "metadata": {}, 
            "execution_count": 3, 
            "cell_type": "code", 
            "outputs": [
                {
                    "name": "stdout", 
                    "output_type": "stream", 
                    "text": "Hello Capstone Project Course\n"
                }
            ], 
            "source": "import pandas as pd\nimport numpy as np\n\nprint (\"Hello Capstone Project Course\")"
        }, 
        {
            "metadata": {}, 
            "cell_type": "markdown", 
            "source": "#### Please find below link to my capstone project:\n\n<a href= \"https://github.com/sharath2088/sharing-github/blob/master/Hello%20Capstone%20Project%20Course.ipynb\"> Capstone Project Link </a>"
        }, 
        {
            "metadata": {}, 
            "execution_count": null, 
            "cell_type": "code", 
            "outputs": [], 
            "source": ""
        }
    ], 
    "nbformat_minor": 1
}