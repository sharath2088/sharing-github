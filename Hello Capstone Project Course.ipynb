{
    "nbformat_minor": 1, 
    "metadata": {
        "kernelspec": {
            "name": "python3", 
            "display_name": "Python 3.5 with Spark", 
            "language": "python3"
        }, 
        "language_info": {
            "name": "python", 
            "mimetype": "text/x-python", 
            "pygments_lexer": "ipython3", 
            "nbconvert_exporter": "python", 
            "codemirror_mode": {
                "name": "ipython", 
                "version": 3
            }, 
            "file_extension": ".py", 
            "version": "3.5.4"
        }
    }, 
    "cells": [
        {
            "metadata": {
                "collapsed": true
            }, 
            "cell_type": "markdown", 
            "source": "# Initiating Capstone Project Course"
        }, 
        {
            "outputs": [
                {
                    "name": "stdout", 
                    "output_type": "stream", 
                    "text": "Hello Capstone Project Course\n"
                }
            ], 
            "execution_count": 3, 
            "metadata": {}, 
            "cell_type": "code", 
            "source": "import pandas as pd\nimport numpy as np\n\nprint (\"Hello Capstone Project Course\")"
        }, 
        {
            "metadata": {}, 
            "cell_type": "markdown", 
            "source": "#### Please find below link to my capstone project:\n\n<a href= \"https://github.com/sharath2088/sharing-github/blob/master/Hello%20Capstone%20Project%20Course.ipynb\"> Capstone Project Link </a>"
        }, 
        {
            "outputs": [], 
            "execution_count": null, 
            "metadata": {}, 
            "cell_type": "code", 
            "source": ""
        }
    ], 
    "nbformat": 4
}