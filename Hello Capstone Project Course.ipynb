{
    "nbformat_minor": 1, 
    "cells": [
        {
            "source": "# This is the first of 5 assignments undertaken as part of the Capstone Project", 
            "cell_type": "markdown", 
            "metadata": {
                "collapsed": true
            }
        }, 
        {
            "source": "import pandas as pd\nimport numpy as np\n\nprint (\"Hello Capstone Project Course\")", 
            "metadata": {}, 
            "execution_count": 3, 
            "cell_type": "code", 
            "outputs": [
                {
                    "name": "stdout", 
                    "text": "Hello Capstone Project Course\n", 
                    "output_type": "stream"
                }
            ]
        }, 
        {
            "source": "#### Please find below link to my capstone project:\n\n<a href= \"https://github.com/sharath2088/sharing-github/blob/master/Hello%20Capstone%20Project%20Course.ipynb\"> Capstone Project Link </a>", 
            "cell_type": "markdown", 
            "metadata": {}
        }, 
        {
            "source": "", 
            "metadata": {}, 
            "execution_count": null, 
            "cell_type": "code", 
            "outputs": []
        }, 
        {
            "source": "", 
            "metadata": {}, 
            "execution_count": null, 
            "cell_type": "code", 
            "outputs": []
        }
    ], 
    "nbformat": 4, 
    "metadata": {
        "kernelspec": {
            "name": "python3", 
            "language": "python3", 
            "display_name": "Python 3.5 with Spark"
        }, 
        "language_info": {
            "name": "python", 
            "pygments_lexer": "ipython3", 
            "mimetype": "text/x-python", 
            "codemirror_mode": {
                "name": "ipython", 
                "version": 3
            }, 
            "file_extension": ".py", 
            "version": "3.5.4", 
            "nbconvert_exporter": "python"
        }
    }
}